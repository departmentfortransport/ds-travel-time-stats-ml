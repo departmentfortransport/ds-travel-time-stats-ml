{
 "cells": [
  {
   "cell_type": "markdown",
   "metadata": {},
   "source": [
    "## Simple model as a baseline\n",
    "Calculate the travel time for primary schools, secondary schoolds and further education. Using 2014 and 2015.\n",
    "Simply use linear regression and only use variables that come with the published stats\n",
    "\n",
    "* The region the LSOA belongs to (North East, West Midlands, London....)\n",
    "* The mode of transport (Car, Public Transport, Cycle)\n",
    "\n",
    "Since the variables are categorical the regession model will just produce averages for each of the categories.\n",
    "\n",
    "10-fold [cross validation](https://youtu.be/TIgfjmp-4BA) is used to evaluate the performance"
   ]
  },
  {
   "cell_type": "code",
   "execution_count": 1,
   "metadata": {},
   "outputs": [],
   "source": [
    "import pandas as pd\n",
    "import numpy as np\n",
    "import seaborn as sns\n",
    "import matplotlib.pyplot as plt\n",
    "from sklearn.linear_model import LinearRegression\n",
    "from sklearn.model_selection import cross_val_score\n",
    "% matplotlib inline"
   ]
  },
  {
   "cell_type": "code",
   "execution_count": 2,
   "metadata": {
    "collapsed": true
   },
   "outputs": [],
   "source": [
    "def encode_categorical(df):\n",
    "    new_df = df\n",
    "    categorical_cols = ['Region', 'mode', 'nearest', 'urban_rural']\n",
    "    for cat_colname in categorical_cols:\n",
    "        levels = df[cat_colname].unique().tolist()\n",
    "        for level in levels:\n",
    "            new_colname = cat_colname + '_is_' + level\n",
    "            new_df[new_colname] = new_df[cat_colname].apply(lambda x: x == level).astype(int)\n",
    "    return(new_df)\n",
    "df = pd.read_csv('02-enriched-data.csv')\n",
    "df = encode_categorical(df)"
   ]
  },
  {
   "cell_type": "code",
   "execution_count": 3,
   "metadata": {},
   "outputs": [
    {
     "data": {
      "text/plain": [
       "Index(['LSOA_code', 'Region', 'LA_Code', 'LA_Name', 'year', 'mode',\n",
       "       'travel_time', 'nearest', 'urban_rural', 'area_square_km', 'pop_u18',\n",
       "       'pop_working_age', 'pop_retired_age', 'road_LA_minor_length_km',\n",
       "       'road_LA_principal_length_km', 'road_LA_total_length_km',\n",
       "       'road_LA_trunk_length_km', 'bus_LA_vehicle_km_travelled',\n",
       "       'schools_all_LA', 'schools_nursery_LA', 'schools_primary_LA',\n",
       "       'schools_private_LA', 'schools_secondary_LA', 'Region_is_London',\n",
       "       'Region_is_North West', 'Region_is_Yorkshire and The Humber',\n",
       "       'Region_is_North East', 'Region_is_West Midlands',\n",
       "       'Region_is_East Midlands', 'Region_is_South West', 'Region_is_East',\n",
       "       'Region_is_South East', 'mode_is_car', 'mode_is_cycle',\n",
       "       'mode_is_public transport', 'nearest_is_employment_centre',\n",
       "       'nearest_is_primary_school', 'nearest_is_secondary_school',\n",
       "       'nearest_is_further_education', 'nearest_is_GP', 'nearest_is_hospital',\n",
       "       'nearest_is_food', 'nearest_is_town_centre',\n",
       "       'urban_rural_is_Urban major conurbation',\n",
       "       'urban_rural_is_Urban city and town',\n",
       "       'urban_rural_is_Rural village and dispersed',\n",
       "       'urban_rural_is_Rural town and fringe',\n",
       "       'urban_rural_is_Urban minor conurbation',\n",
       "       'urban_rural_is_Rural village and dispersed in a sparse setting',\n",
       "       'urban_rural_is_Rural town and fringe in a sparse setting',\n",
       "       'urban_rural_is_Urban city and town in a sparse setting'],\n",
       "      dtype='object')"
      ]
     },
     "execution_count": 3,
     "metadata": {},
     "output_type": "execute_result"
    }
   ],
   "source": [
    "df.columns"
   ]
  },
  {
   "cell_type": "code",
   "execution_count": 4,
   "metadata": {
    "collapsed": true
   },
   "outputs": [],
   "source": [
    "cols_to_keep = [\n",
    "       'Region_is_London',\n",
    "       'Region_is_North West', 'Region_is_Yorkshire and The Humber',\n",
    "       'Region_is_North East', 'Region_is_West Midlands',\n",
    "       'Region_is_East Midlands', 'Region_is_South West', 'Region_is_East',\n",
    "       'Region_is_South East', 'mode_is_car', 'mode_is_cycle',\n",
    "       'mode_is_public transport', \n",
    "       'nearest_is_primary_school', 'nearest_is_secondary_school',\n",
    "       'nearest_is_further_education'\n",
    "]\n",
    "\n",
    "rows_to_keep = df.nearest.apply(lambda x: x in ['primary_school', 'secondary_school', 'further_education'] )"
   ]
  },
  {
   "cell_type": "code",
   "execution_count": 5,
   "metadata": {},
   "outputs": [],
   "source": [
    "X = df.loc[rows_to_keep, cols_to_keep]\n",
    "y = df.travel_time[rows_to_keep]"
   ]
  },
  {
   "cell_type": "code",
   "execution_count": 6,
   "metadata": {},
   "outputs": [
    {
     "data": {
      "text/plain": [
       "(591192, 15)"
      ]
     },
     "execution_count": 6,
     "metadata": {},
     "output_type": "execute_result"
    }
   ],
   "source": [
    "X.shape"
   ]
  },
  {
   "cell_type": "code",
   "execution_count": 7,
   "metadata": {},
   "outputs": [
    {
     "data": {
      "text/plain": [
       "Region_is_London                      int64\n",
       "Region_is_North West                  int64\n",
       "Region_is_Yorkshire and The Humber    int64\n",
       "Region_is_North East                  int64\n",
       "Region_is_West Midlands               int64\n",
       "Region_is_East Midlands               int64\n",
       "Region_is_South West                  int64\n",
       "Region_is_East                        int64\n",
       "Region_is_South East                  int64\n",
       "mode_is_car                           int64\n",
       "mode_is_cycle                         int64\n",
       "mode_is_public transport              int64\n",
       "nearest_is_primary_school             int64\n",
       "nearest_is_secondary_school           int64\n",
       "nearest_is_further_education          int64\n",
       "dtype: object"
      ]
     },
     "execution_count": 7,
     "metadata": {},
     "output_type": "execute_result"
    }
   ],
   "source": [
    "X.dtypes"
   ]
  },
  {
   "cell_type": "code",
   "execution_count": 8,
   "metadata": {},
   "outputs": [
    {
     "data": {
      "text/html": [
       "<div>\n",
       "<style>\n",
       "    .dataframe thead tr:only-child th {\n",
       "        text-align: right;\n",
       "    }\n",
       "\n",
       "    .dataframe thead th {\n",
       "        text-align: left;\n",
       "    }\n",
       "\n",
       "    .dataframe tbody tr th {\n",
       "        vertical-align: top;\n",
       "    }\n",
       "</style>\n",
       "<table border=\"1\" class=\"dataframe\">\n",
       "  <thead>\n",
       "    <tr style=\"text-align: right;\">\n",
       "      <th></th>\n",
       "      <th>Region_is_London</th>\n",
       "      <th>Region_is_North West</th>\n",
       "      <th>Region_is_Yorkshire and The Humber</th>\n",
       "      <th>Region_is_North East</th>\n",
       "      <th>Region_is_West Midlands</th>\n",
       "      <th>Region_is_East Midlands</th>\n",
       "      <th>Region_is_South West</th>\n",
       "      <th>Region_is_East</th>\n",
       "      <th>Region_is_South East</th>\n",
       "      <th>mode_is_car</th>\n",
       "      <th>mode_is_cycle</th>\n",
       "      <th>mode_is_public transport</th>\n",
       "      <th>nearest_is_primary_school</th>\n",
       "      <th>nearest_is_secondary_school</th>\n",
       "      <th>nearest_is_further_education</th>\n",
       "    </tr>\n",
       "  </thead>\n",
       "  <tbody>\n",
       "    <tr>\n",
       "      <th>6</th>\n",
       "      <td>1</td>\n",
       "      <td>0</td>\n",
       "      <td>0</td>\n",
       "      <td>0</td>\n",
       "      <td>0</td>\n",
       "      <td>0</td>\n",
       "      <td>0</td>\n",
       "      <td>0</td>\n",
       "      <td>0</td>\n",
       "      <td>0</td>\n",
       "      <td>0</td>\n",
       "      <td>1</td>\n",
       "      <td>1</td>\n",
       "      <td>0</td>\n",
       "      <td>0</td>\n",
       "    </tr>\n",
       "    <tr>\n",
       "      <th>7</th>\n",
       "      <td>1</td>\n",
       "      <td>0</td>\n",
       "      <td>0</td>\n",
       "      <td>0</td>\n",
       "      <td>0</td>\n",
       "      <td>0</td>\n",
       "      <td>0</td>\n",
       "      <td>0</td>\n",
       "      <td>0</td>\n",
       "      <td>0</td>\n",
       "      <td>0</td>\n",
       "      <td>1</td>\n",
       "      <td>1</td>\n",
       "      <td>0</td>\n",
       "      <td>0</td>\n",
       "    </tr>\n",
       "    <tr>\n",
       "      <th>8</th>\n",
       "      <td>1</td>\n",
       "      <td>0</td>\n",
       "      <td>0</td>\n",
       "      <td>0</td>\n",
       "      <td>0</td>\n",
       "      <td>0</td>\n",
       "      <td>0</td>\n",
       "      <td>0</td>\n",
       "      <td>0</td>\n",
       "      <td>0</td>\n",
       "      <td>1</td>\n",
       "      <td>0</td>\n",
       "      <td>1</td>\n",
       "      <td>0</td>\n",
       "      <td>0</td>\n",
       "    </tr>\n",
       "    <tr>\n",
       "      <th>9</th>\n",
       "      <td>1</td>\n",
       "      <td>0</td>\n",
       "      <td>0</td>\n",
       "      <td>0</td>\n",
       "      <td>0</td>\n",
       "      <td>0</td>\n",
       "      <td>0</td>\n",
       "      <td>0</td>\n",
       "      <td>0</td>\n",
       "      <td>0</td>\n",
       "      <td>1</td>\n",
       "      <td>0</td>\n",
       "      <td>1</td>\n",
       "      <td>0</td>\n",
       "      <td>0</td>\n",
       "    </tr>\n",
       "    <tr>\n",
       "      <th>10</th>\n",
       "      <td>1</td>\n",
       "      <td>0</td>\n",
       "      <td>0</td>\n",
       "      <td>0</td>\n",
       "      <td>0</td>\n",
       "      <td>0</td>\n",
       "      <td>0</td>\n",
       "      <td>0</td>\n",
       "      <td>0</td>\n",
       "      <td>1</td>\n",
       "      <td>0</td>\n",
       "      <td>0</td>\n",
       "      <td>1</td>\n",
       "      <td>0</td>\n",
       "      <td>0</td>\n",
       "    </tr>\n",
       "  </tbody>\n",
       "</table>\n",
       "</div>"
      ],
      "text/plain": [
       "    Region_is_London  Region_is_North West  \\\n",
       "6                  1                     0   \n",
       "7                  1                     0   \n",
       "8                  1                     0   \n",
       "9                  1                     0   \n",
       "10                 1                     0   \n",
       "\n",
       "    Region_is_Yorkshire and The Humber  Region_is_North East  \\\n",
       "6                                    0                     0   \n",
       "7                                    0                     0   \n",
       "8                                    0                     0   \n",
       "9                                    0                     0   \n",
       "10                                   0                     0   \n",
       "\n",
       "    Region_is_West Midlands  Region_is_East Midlands  Region_is_South West  \\\n",
       "6                         0                        0                     0   \n",
       "7                         0                        0                     0   \n",
       "8                         0                        0                     0   \n",
       "9                         0                        0                     0   \n",
       "10                        0                        0                     0   \n",
       "\n",
       "    Region_is_East  Region_is_South East  mode_is_car  mode_is_cycle  \\\n",
       "6                0                     0            0              0   \n",
       "7                0                     0            0              0   \n",
       "8                0                     0            0              1   \n",
       "9                0                     0            0              1   \n",
       "10               0                     0            1              0   \n",
       "\n",
       "    mode_is_public transport  nearest_is_primary_school  \\\n",
       "6                          1                          1   \n",
       "7                          1                          1   \n",
       "8                          0                          1   \n",
       "9                          0                          1   \n",
       "10                         0                          1   \n",
       "\n",
       "    nearest_is_secondary_school  nearest_is_further_education  \n",
       "6                             0                             0  \n",
       "7                             0                             0  \n",
       "8                             0                             0  \n",
       "9                             0                             0  \n",
       "10                            0                             0  "
      ]
     },
     "execution_count": 8,
     "metadata": {},
     "output_type": "execute_result"
    }
   ],
   "source": [
    "X.head()"
   ]
  },
  {
   "cell_type": "code",
   "execution_count": 9,
   "metadata": {},
   "outputs": [
    {
     "data": {
      "text/plain": [
       "6     6.0\n",
       "7     6.0\n",
       "8     8.0\n",
       "9     8.0\n",
       "10    7.0\n",
       "Name: travel_time, dtype: float64"
      ]
     },
     "execution_count": 9,
     "metadata": {},
     "output_type": "execute_result"
    }
   ],
   "source": [
    "y.head()"
   ]
  },
  {
   "cell_type": "code",
   "execution_count": 10,
   "metadata": {},
   "outputs": [
    {
     "name": "stderr",
     "output_type": "stream",
     "text": [
      "/Library/Frameworks/Python.framework/Versions/3.6/lib/python3.6/site-packages/scipy/linalg/basic.py:1018: RuntimeWarning: internal gelsd driver lwork query error, required iwork dimension not returned. This is likely the result of LAPACK bug 0038, fixed in LAPACK 3.2.2 (released July 21, 2010). Falling back to 'gelss' driver.\n",
      "  warnings.warn(mesg, RuntimeWarning)\n"
     ]
    },
    {
     "name": "stdout",
     "output_type": "stream",
     "text": [
      "Average error 6.72 minutes\n",
      "R2 score 0.17\n"
     ]
    }
   ],
   "source": [
    "reg = LinearRegression()\n",
    "scores = cross_val_score(estimator=reg, X=X, y=y, scoring='neg_mean_squared_error', cv=10)\n",
    "average_error = np.sqrt(scores*-1).mean()\n",
    "scores = cross_val_score(estimator=reg, X=X, y=y, scoring='r2', cv=10)\n",
    "r2_score = scores.mean()\n",
    "print('Average error ' + \"{:.2f}\".format(average_error) + ' minutes')\n",
    "print('R2 score ' + \"{:.2f}\".format(r2_score) )"
   ]
  },
  {
   "cell_type": "code",
   "execution_count": 11,
   "metadata": {},
   "outputs": [
    {
     "data": {
      "text/plain": [
       "<seaborn.axisgrid.JointGrid at 0x1202d0588>"
      ]
     },
     "execution_count": 11,
     "metadata": {},
     "output_type": "execute_result"
    },
    {
     "data": {
      "image/png": "[encoded data removed]",
      "text/plain": [
       "<matplotlib.figure.Figure at 0x1202d0c88>"
      ]
     },
     "metadata": {},
     "output_type": "display_data"
    }
   ],
   "source": [
    "predictions = LinearRegression().fit(X,y).predict(X)\n",
    "sns.jointplot(x=y, y=predictions)"
   ]
  },
  {
   "cell_type": "markdown",
   "metadata": {},
   "source": [
    "Model is pretty bad. All predictions are under 20 mins. Does not capture the outliers. The distribution of the predictions is very different to the actual values"
   ]
  },
  {
   "cell_type": "code",
   "execution_count": null,
   "metadata": {
    "collapsed": true
   },
   "outputs": [],
   "source": []
  }
 ],
 "metadata": {
  "kernelspec": {
   "display_name": "Python 3",
   "language": "python",
   "name": "python3"
  },
  "language_info": {
   "codemirror_mode": {
    "name": "ipython",
    "version": 3
   },
   "file_extension": ".py",
   "mimetype": "text/x-python",
   "name": "python",
   "nbconvert_exporter": "python",
   "pygments_lexer": "ipython3",
   "version": "3.6.1"
  }
 },
 "nbformat": 4,
 "nbformat_minor": 2
}
